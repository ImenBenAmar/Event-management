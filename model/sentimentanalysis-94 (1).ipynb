{
 "cells": [
  {
   "cell_type": "code",
   "execution_count": 2,
   "metadata": {
    "_cell_guid": "b1076dfc-b9ad-4769-8c92-a6c4dae69d19",
    "_uuid": "8f2839f25d086af736a60e9eeb907d3b93b6e0e5",
    "execution": {
     "iopub.execute_input": "2025-01-18T17:33:46.291828Z",
     "iopub.status.busy": "2025-01-18T17:33:46.291647Z",
     "iopub.status.idle": "2025-01-18T17:33:46.297109Z",
     "shell.execute_reply": "2025-01-18T17:33:46.296501Z",
     "shell.execute_reply.started": "2025-01-18T17:33:46.291811Z"
    },
    "trusted": true
   },
   "outputs": [
    {
     "name": "stdout",
     "output_type": "stream",
     "text": [
      "/kaggle/input/sentiment-analysis/sentiment_analysis.csv\n",
      "/kaggle/input/flipkart-product-customer-reviews-dataset/Dataset-SA.csv\n"
     ]
    }
   ],
   "source": [
    "# This Python 3 environment comes with many helpful analytics libraries installed\n",
    "# It is defined by the kaggle/python Docker image: https://github.com/kaggle/docker-python\n",
    "# For example, here's several helpful packages to load\n",
    "\n",
    "import numpy as np # linear algebra\n",
    "import pandas as pd # data processing, CSV file I/O (e.g. pd.read_csv)\n",
    "\n",
    "# Input data files are available in the read-only \"../input/\" directory\n",
    "# For example, running this (by clicking run or pressing Shift+Enter) will list all files under the input directory\n",
    "\n",
    "import os\n",
    "for dirname, _, filenames in os.walk('/kaggle/input'):\n",
    "    for filename in filenames:\n",
    "        print(os.path.join(dirname, filename))\n",
    "\n",
    "# You can write up to 20GB to the current directory (/kaggle/working/) that gets preserved as output when you create a version using \"Save & Run All\" \n",
    "# You can also write temporary files to /kaggle/temp/, but they won't be saved outside of the current session"
   ]
  },
  {
   "cell_type": "code",
   "execution_count": 3,
   "metadata": {
    "execution": {
     "iopub.execute_input": "2025-01-18T17:33:50.007879Z",
     "iopub.status.busy": "2025-01-18T17:33:50.007607Z",
     "iopub.status.idle": "2025-01-18T17:33:50.767033Z",
     "shell.execute_reply": "2025-01-18T17:33:50.766259Z",
     "shell.execute_reply.started": "2025-01-18T17:33:50.007859Z"
    },
    "trusted": true
   },
   "outputs": [],
   "source": [
    "df=pd.read_csv('/kaggle/input/flipkart-product-customer-reviews-dataset/Dataset-SA.csv') \n"
   ]
  },
  {
   "cell_type": "code",
   "execution_count": 4,
   "metadata": {
    "execution": {
     "iopub.execute_input": "2025-01-18T17:33:50.768454Z",
     "iopub.status.busy": "2025-01-18T17:33:50.768142Z",
     "iopub.status.idle": "2025-01-18T17:33:50.788192Z",
     "shell.execute_reply": "2025-01-18T17:33:50.787461Z",
     "shell.execute_reply.started": "2025-01-18T17:33:50.768426Z"
    },
    "trusted": true
   },
   "outputs": [
    {
     "data": {
      "text/html": [
       "<div>\n",
       "<style scoped>\n",
       "    .dataframe tbody tr th:only-of-type {\n",
       "        vertical-align: middle;\n",
       "    }\n",
       "\n",
       "    .dataframe tbody tr th {\n",
       "        vertical-align: top;\n",
       "    }\n",
       "\n",
       "    .dataframe thead th {\n",
       "        text-align: right;\n",
       "    }\n",
       "</style>\n",
       "<table border=\"1\" class=\"dataframe\">\n",
       "  <thead>\n",
       "    <tr style=\"text-align: right;\">\n",
       "      <th></th>\n",
       "      <th>product_name</th>\n",
       "      <th>product_price</th>\n",
       "      <th>Rate</th>\n",
       "      <th>Review</th>\n",
       "      <th>Summary</th>\n",
       "      <th>Sentiment</th>\n",
       "    </tr>\n",
       "  </thead>\n",
       "  <tbody>\n",
       "    <tr>\n",
       "      <th>0</th>\n",
       "      <td>Candes 12 L Room/Personal Air Cooler??????(Whi...</td>\n",
       "      <td>3999</td>\n",
       "      <td>5</td>\n",
       "      <td>super!</td>\n",
       "      <td>great cooler excellent air flow and for this p...</td>\n",
       "      <td>positive</td>\n",
       "    </tr>\n",
       "    <tr>\n",
       "      <th>1</th>\n",
       "      <td>Candes 12 L Room/Personal Air Cooler??????(Whi...</td>\n",
       "      <td>3999</td>\n",
       "      <td>5</td>\n",
       "      <td>awesome</td>\n",
       "      <td>best budget 2 fit cooler nice cooling</td>\n",
       "      <td>positive</td>\n",
       "    </tr>\n",
       "    <tr>\n",
       "      <th>2</th>\n",
       "      <td>Candes 12 L Room/Personal Air Cooler??????(Whi...</td>\n",
       "      <td>3999</td>\n",
       "      <td>3</td>\n",
       "      <td>fair</td>\n",
       "      <td>the quality is good but the power of air is de...</td>\n",
       "      <td>positive</td>\n",
       "    </tr>\n",
       "    <tr>\n",
       "      <th>3</th>\n",
       "      <td>Candes 12 L Room/Personal Air Cooler??????(Whi...</td>\n",
       "      <td>3999</td>\n",
       "      <td>1</td>\n",
       "      <td>useless product</td>\n",
       "      <td>very bad product its a only a fan</td>\n",
       "      <td>negative</td>\n",
       "    </tr>\n",
       "    <tr>\n",
       "      <th>4</th>\n",
       "      <td>Candes 12 L Room/Personal Air Cooler??????(Whi...</td>\n",
       "      <td>3999</td>\n",
       "      <td>3</td>\n",
       "      <td>fair</td>\n",
       "      <td>ok ok product</td>\n",
       "      <td>neutral</td>\n",
       "    </tr>\n",
       "  </tbody>\n",
       "</table>\n",
       "</div>"
      ],
      "text/plain": [
       "                                        product_name product_price Rate  \\\n",
       "0  Candes 12 L Room/Personal Air Cooler??????(Whi...          3999    5   \n",
       "1  Candes 12 L Room/Personal Air Cooler??????(Whi...          3999    5   \n",
       "2  Candes 12 L Room/Personal Air Cooler??????(Whi...          3999    3   \n",
       "3  Candes 12 L Room/Personal Air Cooler??????(Whi...          3999    1   \n",
       "4  Candes 12 L Room/Personal Air Cooler??????(Whi...          3999    3   \n",
       "\n",
       "            Review                                            Summary  \\\n",
       "0           super!  great cooler excellent air flow and for this p...   \n",
       "1          awesome              best budget 2 fit cooler nice cooling   \n",
       "2             fair  the quality is good but the power of air is de...   \n",
       "3  useless product                  very bad product its a only a fan   \n",
       "4             fair                                      ok ok product   \n",
       "\n",
       "  Sentiment  \n",
       "0  positive  \n",
       "1  positive  \n",
       "2  positive  \n",
       "3  negative  \n",
       "4   neutral  "
      ]
     },
     "execution_count": 4,
     "metadata": {},
     "output_type": "execute_result"
    }
   ],
   "source": [
    "df.head()"
   ]
  },
  {
   "cell_type": "code",
   "execution_count": 5,
   "metadata": {
    "execution": {
     "iopub.execute_input": "2025-01-18T17:33:50.790055Z",
     "iopub.status.busy": "2025-01-18T17:33:50.789833Z",
     "iopub.status.idle": "2025-01-18T17:33:50.923968Z",
     "shell.execute_reply": "2025-01-18T17:33:50.923336Z",
     "shell.execute_reply.started": "2025-01-18T17:33:50.790035Z"
    },
    "trusted": true
   },
   "outputs": [],
   "source": [
    "df['text']=df['Review']+' '+df['Summary']\n",
    "df = df[df['Sentiment']!='neutral']# Data is too small\n",
    "\n"
   ]
  },
  {
   "cell_type": "code",
   "execution_count": 6,
   "metadata": {
    "execution": {
     "iopub.execute_input": "2025-01-18T17:33:50.925420Z",
     "iopub.status.busy": "2025-01-18T17:33:50.925183Z",
     "iopub.status.idle": "2025-01-18T17:33:50.929827Z",
     "shell.execute_reply": "2025-01-18T17:33:50.929119Z",
     "shell.execute_reply.started": "2025-01-18T17:33:50.925400Z"
    },
    "trusted": true
   },
   "outputs": [],
   "source": [
    "df['sentiment']=df['Sentiment']"
   ]
  },
  {
   "cell_type": "code",
   "execution_count": 7,
   "metadata": {
    "execution": {
     "iopub.execute_input": "2025-01-18T17:33:50.930902Z",
     "iopub.status.busy": "2025-01-18T17:33:50.930675Z",
     "iopub.status.idle": "2025-01-18T17:33:50.961289Z",
     "shell.execute_reply": "2025-01-18T17:33:50.960696Z",
     "shell.execute_reply.started": "2025-01-18T17:33:50.930871Z"
    },
    "trusted": true
   },
   "outputs": [
    {
     "data": {
      "text/plain": [
       "sentiment\n",
       "positive    166581\n",
       "negative     28232\n",
       "Name: count, dtype: int64"
      ]
     },
     "execution_count": 7,
     "metadata": {},
     "output_type": "execute_result"
    }
   ],
   "source": [
    "df['sentiment'].value_counts()"
   ]
  },
  {
   "cell_type": "code",
   "execution_count": 8,
   "metadata": {
    "execution": {
     "iopub.execute_input": "2025-01-18T17:33:50.962236Z",
     "iopub.status.busy": "2025-01-18T17:33:50.961969Z",
     "iopub.status.idle": "2025-01-18T17:33:50.979283Z",
     "shell.execute_reply": "2025-01-18T17:33:50.978611Z",
     "shell.execute_reply.started": "2025-01-18T17:33:50.962215Z"
    },
    "trusted": true
   },
   "outputs": [],
   "source": [
    "df_copy = pd.DataFrame({'text': df['text'], 'sentiment': df['sentiment']})\n"
   ]
  },
  {
   "cell_type": "code",
   "execution_count": 9,
   "metadata": {
    "execution": {
     "iopub.execute_input": "2025-01-18T17:33:50.980178Z",
     "iopub.status.busy": "2025-01-18T17:33:50.979924Z",
     "iopub.status.idle": "2025-01-18T17:33:50.998318Z",
     "shell.execute_reply": "2025-01-18T17:33:50.997479Z",
     "shell.execute_reply.started": "2025-01-18T17:33:50.980159Z"
    },
    "trusted": true
   },
   "outputs": [
    {
     "data": {
      "text/html": [
       "<div>\n",
       "<style scoped>\n",
       "    .dataframe tbody tr th:only-of-type {\n",
       "        vertical-align: middle;\n",
       "    }\n",
       "\n",
       "    .dataframe tbody tr th {\n",
       "        vertical-align: top;\n",
       "    }\n",
       "\n",
       "    .dataframe thead th {\n",
       "        text-align: right;\n",
       "    }\n",
       "</style>\n",
       "<table border=\"1\" class=\"dataframe\">\n",
       "  <thead>\n",
       "    <tr style=\"text-align: right;\">\n",
       "      <th></th>\n",
       "      <th>text</th>\n",
       "      <th>sentiment</th>\n",
       "    </tr>\n",
       "  </thead>\n",
       "  <tbody>\n",
       "    <tr>\n",
       "      <th>0</th>\n",
       "      <td>super! great cooler excellent air flow and for...</td>\n",
       "      <td>positive</td>\n",
       "    </tr>\n",
       "    <tr>\n",
       "      <th>1</th>\n",
       "      <td>awesome best budget 2 fit cooler nice cooling</td>\n",
       "      <td>positive</td>\n",
       "    </tr>\n",
       "    <tr>\n",
       "      <th>2</th>\n",
       "      <td>fair the quality is good but the power of air ...</td>\n",
       "      <td>positive</td>\n",
       "    </tr>\n",
       "    <tr>\n",
       "      <th>3</th>\n",
       "      <td>useless product very bad product its a only a fan</td>\n",
       "      <td>negative</td>\n",
       "    </tr>\n",
       "    <tr>\n",
       "      <th>5</th>\n",
       "      <td>awesome the cooler is really fantastic and pro...</td>\n",
       "      <td>positive</td>\n",
       "    </tr>\n",
       "  </tbody>\n",
       "</table>\n",
       "</div>"
      ],
      "text/plain": [
       "                                                text sentiment\n",
       "0  super! great cooler excellent air flow and for...  positive\n",
       "1      awesome best budget 2 fit cooler nice cooling  positive\n",
       "2  fair the quality is good but the power of air ...  positive\n",
       "3  useless product very bad product its a only a fan  negative\n",
       "5  awesome the cooler is really fantastic and pro...  positive"
      ]
     },
     "execution_count": 9,
     "metadata": {},
     "output_type": "execute_result"
    }
   ],
   "source": [
    "df_copy.head()"
   ]
  },
  {
   "cell_type": "code",
   "execution_count": 10,
   "metadata": {
    "execution": {
     "iopub.execute_input": "2025-01-18T17:33:50.999549Z",
     "iopub.status.busy": "2025-01-18T17:33:50.999293Z",
     "iopub.status.idle": "2025-01-18T17:33:51.014404Z",
     "shell.execute_reply": "2025-01-18T17:33:51.013773Z",
     "shell.execute_reply.started": "2025-01-18T17:33:50.999528Z"
    },
    "trusted": true
   },
   "outputs": [],
   "source": [
    "def color_sentiment(value):\n",
    "    if value == 'positive':\n",
    "        return 'color: green;'\n",
    "    elif value == 'negative':\n",
    "        return 'color: red;'\n",
    "    else:\n",
    "        return 'color: gray;'\n"
   ]
  },
  {
   "cell_type": "code",
   "execution_count": 11,
   "metadata": {
    "execution": {
     "iopub.execute_input": "2025-01-18T17:33:51.016303Z",
     "iopub.status.busy": "2025-01-18T17:33:51.016061Z",
     "iopub.status.idle": "2025-01-18T17:33:51.108517Z",
     "shell.execute_reply": "2025-01-18T17:33:51.107836Z",
     "shell.execute_reply.started": "2025-01-18T17:33:51.016283Z"
    },
    "trusted": true
   },
   "outputs": [
    {
     "name": "stderr",
     "output_type": "stream",
     "text": [
      "<ipython-input-11-ac7c3954a43f>:1: FutureWarning: Styler.applymap has been deprecated. Use Styler.map instead.\n",
      "  styled_df = df_copy.head(10).style.applymap(color_sentiment, subset=['sentiment'])\n"
     ]
    },
    {
     "data": {
      "text/html": [
       "<style type=\"text/css\">\n",
       "#T_e39d5_row0_col1, #T_e39d5_row1_col1, #T_e39d5_row2_col1, #T_e39d5_row4_col1, #T_e39d5_row5_col1, #T_e39d5_row6_col1, #T_e39d5_row8_col1, #T_e39d5_row9_col1 {\n",
       "  color: green;\n",
       "}\n",
       "#T_e39d5_row3_col1, #T_e39d5_row7_col1 {\n",
       "  color: red;\n",
       "}\n",
       "</style>\n",
       "<table id=\"T_e39d5\">\n",
       "  <thead>\n",
       "    <tr>\n",
       "      <th class=\"blank level0\" >&nbsp;</th>\n",
       "      <th id=\"T_e39d5_level0_col0\" class=\"col_heading level0 col0\" >text</th>\n",
       "      <th id=\"T_e39d5_level0_col1\" class=\"col_heading level0 col1\" >sentiment</th>\n",
       "    </tr>\n",
       "  </thead>\n",
       "  <tbody>\n",
       "    <tr>\n",
       "      <th id=\"T_e39d5_level0_row0\" class=\"row_heading level0 row0\" >0</th>\n",
       "      <td id=\"T_e39d5_row0_col0\" class=\"data row0 col0\" >super! great cooler excellent air flow and for this price its so amazing and unbelievablejust love it</td>\n",
       "      <td id=\"T_e39d5_row0_col1\" class=\"data row0 col1\" >positive</td>\n",
       "    </tr>\n",
       "    <tr>\n",
       "      <th id=\"T_e39d5_level0_row1\" class=\"row_heading level0 row1\" >1</th>\n",
       "      <td id=\"T_e39d5_row1_col0\" class=\"data row1 col0\" >awesome best budget 2 fit cooler nice cooling</td>\n",
       "      <td id=\"T_e39d5_row1_col1\" class=\"data row1 col1\" >positive</td>\n",
       "    </tr>\n",
       "    <tr>\n",
       "      <th id=\"T_e39d5_level0_row2\" class=\"row_heading level0 row2\" >2</th>\n",
       "      <td id=\"T_e39d5_row2_col0\" class=\"data row2 col0\" >fair the quality is good but the power of air is decent</td>\n",
       "      <td id=\"T_e39d5_row2_col1\" class=\"data row2 col1\" >positive</td>\n",
       "    </tr>\n",
       "    <tr>\n",
       "      <th id=\"T_e39d5_level0_row3\" class=\"row_heading level0 row3\" >3</th>\n",
       "      <td id=\"T_e39d5_row3_col0\" class=\"data row3 col0\" >useless product very bad product its a only a fan</td>\n",
       "      <td id=\"T_e39d5_row3_col1\" class=\"data row3 col1\" >negative</td>\n",
       "    </tr>\n",
       "    <tr>\n",
       "      <th id=\"T_e39d5_level0_row4\" class=\"row_heading level0 row4\" >5</th>\n",
       "      <td id=\"T_e39d5_row4_col0\" class=\"data row4 col0\" >awesome the cooler is really fantastic and provides good air flow highly recommended</td>\n",
       "      <td id=\"T_e39d5_row4_col1\" class=\"data row4 col1\" >positive</td>\n",
       "    </tr>\n",
       "    <tr>\n",
       "      <th id=\"T_e39d5_level0_row5\" class=\"row_heading level0 row5\" >6</th>\n",
       "      <td id=\"T_e39d5_row5_col0\" class=\"data row5 col0\" >highly recommended very good product</td>\n",
       "      <td id=\"T_e39d5_row5_col1\" class=\"data row5 col1\" >positive</td>\n",
       "    </tr>\n",
       "    <tr>\n",
       "      <th id=\"T_e39d5_level0_row6\" class=\"row_heading level0 row6\" >7</th>\n",
       "      <td id=\"T_e39d5_row6_col0\" class=\"data row6 col0\" >nice very nice</td>\n",
       "      <td id=\"T_e39d5_row6_col1\" class=\"data row6 col1\" >positive</td>\n",
       "    </tr>\n",
       "    <tr>\n",
       "      <th id=\"T_e39d5_level0_row7\" class=\"row_heading level0 row7\" >8</th>\n",
       "      <td id=\"T_e39d5_row7_col0\" class=\"data row7 col0\" >unsatisfactory very bad cooler</td>\n",
       "      <td id=\"T_e39d5_row7_col1\" class=\"data row7 col1\" >negative</td>\n",
       "    </tr>\n",
       "    <tr>\n",
       "      <th id=\"T_e39d5_level0_row8\" class=\"row_heading level0 row8\" >9</th>\n",
       "      <td id=\"T_e39d5_row8_col0\" class=\"data row8 col0\" >worth the money very good</td>\n",
       "      <td id=\"T_e39d5_row8_col1\" class=\"data row8 col1\" >positive</td>\n",
       "    </tr>\n",
       "    <tr>\n",
       "      <th id=\"T_e39d5_level0_row9\" class=\"row_heading level0 row9\" >10</th>\n",
       "      <td id=\"T_e39d5_row9_col0\" class=\"data row9 col0\" >great product beautiful product good material and perfectly working</td>\n",
       "      <td id=\"T_e39d5_row9_col1\" class=\"data row9 col1\" >positive</td>\n",
       "    </tr>\n",
       "  </tbody>\n",
       "</table>\n"
      ],
      "text/plain": [
       "<pandas.io.formats.style.Styler at 0x793348e64be0>"
      ]
     },
     "execution_count": 11,
     "metadata": {},
     "output_type": "execute_result"
    }
   ],
   "source": [
    "styled_df = df_copy.head(10).style.applymap(color_sentiment, subset=['sentiment'])\n",
    "styled_df\n"
   ]
  },
  {
   "cell_type": "markdown",
   "metadata": {},
   "source": [
    "# EDA"
   ]
  },
  {
   "cell_type": "code",
   "execution_count": 12,
   "metadata": {
    "execution": {
     "iopub.execute_input": "2025-01-18T17:33:51.109971Z",
     "iopub.status.busy": "2025-01-18T17:33:51.109636Z",
     "iopub.status.idle": "2025-01-18T17:33:51.144919Z",
     "shell.execute_reply": "2025-01-18T17:33:51.144181Z",
     "shell.execute_reply.started": "2025-01-18T17:33:51.109947Z"
    },
    "trusted": true
   },
   "outputs": [
    {
     "name": "stdout",
     "output_type": "stream",
     "text": [
      "<class 'pandas.core.frame.DataFrame'>\n",
      "Index: 194813 entries, 0 to 205050\n",
      "Data columns (total 2 columns):\n",
      " #   Column     Non-Null Count   Dtype \n",
      "---  ------     --------------   ----- \n",
      " 0   text       171572 non-null  object\n",
      " 1   sentiment  194813 non-null  object\n",
      "dtypes: object(2)\n",
      "memory usage: 4.5+ MB\n"
     ]
    }
   ],
   "source": [
    "df_copy.info()"
   ]
  },
  {
   "cell_type": "code",
   "execution_count": 13,
   "metadata": {
    "execution": {
     "iopub.execute_input": "2025-01-18T17:33:51.146104Z",
     "iopub.status.busy": "2025-01-18T17:33:51.145820Z",
     "iopub.status.idle": "2025-01-18T17:33:51.177900Z",
     "shell.execute_reply": "2025-01-18T17:33:51.177155Z",
     "shell.execute_reply.started": "2025-01-18T17:33:51.146074Z"
    },
    "trusted": true
   },
   "outputs": [
    {
     "data": {
      "text/plain": [
       "text         23241\n",
       "sentiment        0\n",
       "dtype: int64"
      ]
     },
     "execution_count": 13,
     "metadata": {},
     "output_type": "execute_result"
    }
   ],
   "source": [
    "df_copy.isna().sum()"
   ]
  },
  {
   "cell_type": "code",
   "execution_count": 14,
   "metadata": {
    "execution": {
     "iopub.execute_input": "2025-01-18T17:33:51.178802Z",
     "iopub.status.busy": "2025-01-18T17:33:51.178554Z",
     "iopub.status.idle": "2025-01-18T17:33:51.214716Z",
     "shell.execute_reply": "2025-01-18T17:33:51.214060Z",
     "shell.execute_reply.started": "2025-01-18T17:33:51.178774Z"
    },
    "trusted": true
   },
   "outputs": [],
   "source": [
    "df_copy=df_copy.dropna()"
   ]
  },
  {
   "cell_type": "code",
   "execution_count": 15,
   "metadata": {
    "execution": {
     "iopub.execute_input": "2025-01-18T17:33:51.215654Z",
     "iopub.status.busy": "2025-01-18T17:33:51.215383Z",
     "iopub.status.idle": "2025-01-18T17:33:51.240690Z",
     "shell.execute_reply": "2025-01-18T17:33:51.239940Z",
     "shell.execute_reply.started": "2025-01-18T17:33:51.215632Z"
    },
    "trusted": true
   },
   "outputs": [
    {
     "name": "stdout",
     "output_type": "stream",
     "text": [
      "<class 'pandas.core.frame.DataFrame'>\n",
      "Index: 171572 entries, 0 to 205050\n",
      "Data columns (total 2 columns):\n",
      " #   Column     Non-Null Count   Dtype \n",
      "---  ------     --------------   ----- \n",
      " 0   text       171572 non-null  object\n",
      " 1   sentiment  171572 non-null  object\n",
      "dtypes: object(2)\n",
      "memory usage: 3.9+ MB\n"
     ]
    }
   ],
   "source": [
    "df_copy.info()"
   ]
  },
  {
   "cell_type": "code",
   "execution_count": 16,
   "metadata": {
    "execution": {
     "iopub.execute_input": "2025-01-18T17:33:51.242727Z",
     "iopub.status.busy": "2025-01-18T17:33:51.242490Z",
     "iopub.status.idle": "2025-01-18T17:33:51.309163Z",
     "shell.execute_reply": "2025-01-18T17:33:51.308479Z",
     "shell.execute_reply.started": "2025-01-18T17:33:51.242706Z"
    },
    "trusted": true
   },
   "outputs": [
    {
     "data": {
      "text/plain": [
       "75385"
      ]
     },
     "execution_count": 16,
     "metadata": {},
     "output_type": "execute_result"
    }
   ],
   "source": [
    "df_copy.duplicated().sum()"
   ]
  },
  {
   "cell_type": "code",
   "execution_count": 17,
   "metadata": {
    "execution": {
     "iopub.execute_input": "2025-01-18T17:33:51.310199Z",
     "iopub.status.busy": "2025-01-18T17:33:51.309970Z",
     "iopub.status.idle": "2025-01-18T17:33:51.373776Z",
     "shell.execute_reply": "2025-01-18T17:33:51.372843Z",
     "shell.execute_reply.started": "2025-01-18T17:33:51.310178Z"
    },
    "trusted": true
   },
   "outputs": [],
   "source": [
    "df_copy = df_copy.drop_duplicates()\n"
   ]
  },
  {
   "cell_type": "code",
   "execution_count": 18,
   "metadata": {
    "execution": {
     "iopub.execute_input": "2025-01-18T17:33:53.014213Z",
     "iopub.status.busy": "2025-01-18T17:33:53.013940Z",
     "iopub.status.idle": "2025-01-18T17:33:53.059977Z",
     "shell.execute_reply": "2025-01-18T17:33:53.059288Z",
     "shell.execute_reply.started": "2025-01-18T17:33:53.014192Z"
    },
    "trusted": true
   },
   "outputs": [
    {
     "name": "stdout",
     "output_type": "stream",
     "text": [
      "Empty DataFrame\n",
      "Columns: [text, sentiment]\n",
      "Index: []\n"
     ]
    }
   ],
   "source": [
    "# Display rows that are duplicated\n",
    "duplicated_rows = df_copy[df_copy.duplicated()]\n",
    "print(duplicated_rows)\n"
   ]
  },
  {
   "cell_type": "code",
   "execution_count": 19,
   "metadata": {
    "execution": {
     "iopub.execute_input": "2025-01-18T17:33:53.061680Z",
     "iopub.status.busy": "2025-01-18T17:33:53.061329Z",
     "iopub.status.idle": "2025-01-18T17:33:53.105051Z",
     "shell.execute_reply": "2025-01-18T17:33:53.104401Z",
     "shell.execute_reply.started": "2025-01-18T17:33:53.061645Z"
    },
    "trusted": true
   },
   "outputs": [
    {
     "data": {
      "text/plain": [
       "text         96094\n",
       "sentiment        2\n",
       "dtype: int64"
      ]
     },
     "execution_count": 19,
     "metadata": {},
     "output_type": "execute_result"
    }
   ],
   "source": [
    "df_copy.nunique()"
   ]
  },
  {
   "cell_type": "code",
   "execution_count": 20,
   "metadata": {
    "execution": {
     "iopub.execute_input": "2025-01-18T17:33:53.106843Z",
     "iopub.status.busy": "2025-01-18T17:33:53.106634Z",
     "iopub.status.idle": "2025-01-18T17:33:53.117394Z",
     "shell.execute_reply": "2025-01-18T17:33:53.116679Z",
     "shell.execute_reply.started": "2025-01-18T17:33:53.106824Z"
    },
    "trusted": true
   },
   "outputs": [
    {
     "data": {
      "text/plain": [
       "sentiment\n",
       "positive    77017\n",
       "negative    19170\n",
       "Name: count, dtype: int64"
      ]
     },
     "execution_count": 20,
     "metadata": {},
     "output_type": "execute_result"
    }
   ],
   "source": [
    "df_copy['sentiment'].value_counts()"
   ]
  },
  {
   "cell_type": "code",
   "execution_count": 21,
   "metadata": {
    "execution": {
     "iopub.execute_input": "2025-01-18T17:33:53.118579Z",
     "iopub.status.busy": "2025-01-18T17:33:53.118354Z",
     "iopub.status.idle": "2025-01-18T17:33:53.131563Z",
     "shell.execute_reply": "2025-01-18T17:33:53.130792Z",
     "shell.execute_reply.started": "2025-01-18T17:33:53.118559Z"
    },
    "trusted": true
   },
   "outputs": [],
   "source": [
    "def clean_data(data):\n",
    "    cleaned_df = data.copy()\n",
    "    # Strip whitespace from text column\n",
    "    cleaned_df['text'] = cleaned_df['text'].str.strip()\n",
    "    # Convert sentiment to lowercase for consistency\n",
    "    cleaned_df['sentiment'] = cleaned_df['sentiment'].str.lower()\n",
    "    # Remove rows where text is empty after stripping\n",
    "    cleaned_df = cleaned_df[cleaned_df['text'].str.len() > 0]\n",
    "    # Reset index after cleaning\n",
    "    cleaned_df = cleaned_df.reset_index(drop=True)\n",
    "    return cleaned_df\n"
   ]
  },
  {
   "cell_type": "code",
   "execution_count": 22,
   "metadata": {
    "execution": {
     "iopub.execute_input": "2025-01-18T17:33:53.132637Z",
     "iopub.status.busy": "2025-01-18T17:33:53.132396Z",
     "iopub.status.idle": "2025-01-18T17:33:53.215801Z",
     "shell.execute_reply": "2025-01-18T17:33:53.215150Z",
     "shell.execute_reply.started": "2025-01-18T17:33:53.132619Z"
    },
    "trusted": true
   },
   "outputs": [],
   "source": [
    "cleaned_df=clean_data(df_copy)"
   ]
  },
  {
   "cell_type": "markdown",
   "metadata": {},
   "source": [
    "# visualization"
   ]
  },
  {
   "cell_type": "code",
   "execution_count": 23,
   "metadata": {
    "execution": {
     "iopub.execute_input": "2025-01-18T17:33:53.216696Z",
     "iopub.status.busy": "2025-01-18T17:33:53.216474Z",
     "iopub.status.idle": "2025-01-18T17:33:54.526836Z",
     "shell.execute_reply": "2025-01-18T17:33:54.526185Z",
     "shell.execute_reply.started": "2025-01-18T17:33:53.216676Z"
    },
    "trusted": true
   },
   "outputs": [],
   "source": [
    "import seaborn as sns\n",
    "import matplotlib.pyplot as plt"
   ]
  },
  {
   "cell_type": "code",
   "execution_count": null,
   "metadata": {
    "execution": {
     "iopub.execute_input": "2025-01-18T17:33:54.527796Z",
     "iopub.status.busy": "2025-01-18T17:33:54.527488Z"
    },
    "trusted": true
   },
   "outputs": [],
   "source": [
    "sentiment_counts = cleaned_df['sentiment'].value_counts(normalize=True) * 100\n",
    "plt.figure(figsize=(8, 6)) \n",
    "ax = sns.barplot(x=sentiment_counts.index, y=sentiment_counts.values, palette=\"viridis\")\n",
    "# Add percentage labels to the bars\n",
    "for p in ax.patches:\n",
    "    ax.annotate(f'{p.get_height():.1f}%', (p.get_x() +p.get_width() / 2., p.get_height()),ha='center', va='center', fontsize=12,color='black', xytext=(0, 5),textcoords='offset points')"
   ]
  },
  {
   "cell_type": "markdown",
   "metadata": {},
   "source": [
    " # Filter for positive sentiments"
   ]
  },
  {
   "cell_type": "code",
   "execution_count": null,
   "metadata": {
    "trusted": true
   },
   "outputs": [],
   "source": [
    "from wordcloud import WordCloud, STOPWORDS\n",
    "positive_reviews = cleaned_df[cleaned_df['sentiment'] == 'positive']"
   ]
  },
  {
   "cell_type": "code",
   "execution_count": null,
   "metadata": {
    "trusted": true
   },
   "outputs": [],
   "source": [
    "# Combine all positive reviews into a single string\n",
    "positive_text = \" \".join(positive_reviews['text'])"
   ]
  },
  {
   "cell_type": "code",
   "execution_count": null,
   "metadata": {
    "trusted": true
   },
   "outputs": [],
   "source": [
    "# Create a WordCloud object\n",
    "wordcloud = WordCloud(width=800, height=400, background_color='white', stopwords=STOPWORDS).generate(positive_text)"
   ]
  },
  {
   "cell_type": "code",
   "execution_count": null,
   "metadata": {
    "trusted": true
   },
   "outputs": [],
   "source": [
    "# Display the word cloud\n",
    "plt.figure(figsize=(10, 5)) \n",
    "plt.imshow(wordcloud, interpolation='bilinear') \n",
    "plt.axis('off') \n",
    "plt.title('Word Cloud for Positive Sentiments') \n",
    "plt.show()\n"
   ]
  },
  {
   "cell_type": "markdown",
   "metadata": {},
   "source": [
    "# for negative"
   ]
  },
  {
   "cell_type": "code",
   "execution_count": null,
   "metadata": {
    "trusted": true
   },
   "outputs": [],
   "source": [
    "negative_reviews = cleaned_df[cleaned_df['sentiment'] == 'negative']\n",
    "negative_text = \" \".join(negative_reviews['text'])\n",
    "wordcloud = WordCloud(width=800, height=400, background_color='white', stopwords=STOPWORDS).generate(negative_text)\n",
    "# Display the word cloud\n",
    "plt.figure(figsize=(10, 5)) \n",
    "plt.imshow(wordcloud, interpolation='bilinear') \n",
    "plt.axis('off') \n",
    "plt.title('Word Cloud for Negative Sentiments') \n",
    "plt.show()\n"
   ]
  },
  {
   "cell_type": "markdown",
   "metadata": {},
   "source": [
    "# data transformation"
   ]
  },
  {
   "cell_type": "code",
   "execution_count": null,
   "metadata": {
    "trusted": true
   },
   "outputs": [],
   "source": [
    "import re\n",
    "from nltk.tokenize import word_tokenize\n",
    "from nltk.corpus import stopwords\n",
    "from nltk.stem import WordNetLemmatizer\n",
    "import nltk\n",
    "from sklearn.feature_extraction.text import TfidfVectorizer\n",
    "from sklearn.preprocessing import LabelEncoder"
   ]
  },
  {
   "cell_type": "code",
   "execution_count": null,
   "metadata": {
    "trusted": true
   },
   "outputs": [],
   "source": [
    "# Download required NLTK data \n",
    "nltk.download('punkt') \n",
    "nltk.download('stopwords') \n",
    "nltk.download('wordnet') \n",
    "nltk.download('punkt_tab')"
   ]
  },
  {
   "cell_type": "code",
   "execution_count": null,
   "metadata": {
    "trusted": true
   },
   "outputs": [],
   "source": [
    "def convert_to_lowercase(df):\n",
    "    \"\"\" Convert text to lowercase\"\"\" \n",
    "    df['text'] = df['text'].str.lower() \n",
    "    return df"
   ]
  },
  {
   "cell_type": "code",
   "execution_count": null,
   "metadata": {
    "trusted": true
   },
   "outputs": [],
   "source": [
    "cleaned_df=convert_to_lowercase(cleaned_df)\n",
    "\n",
    "cleaned_df"
   ]
  },
  {
   "cell_type": "code",
   "execution_count": null,
   "metadata": {
    "trusted": true
   },
   "outputs": [],
   "source": [
    "\n",
    "\n",
    "def remove_special_characters(df):\n",
    "    \"\"\" Remove special characters and numbers\"\"\"\n",
    "    df['text'] = df['text'].apply(lambda x: re.sub(r'[^a-zA-Z\\s]', '', x))\n",
    "    return df\n",
    "    \n",
    "    "
   ]
  },
  {
   "cell_type": "code",
   "execution_count": null,
   "metadata": {
    "trusted": true
   },
   "outputs": [],
   "source": [
    "cleaned_df=remove_special_characters(cleaned_df)\n",
    "cleaned_df"
   ]
  },
  {
   "cell_type": "code",
   "execution_count": null,
   "metadata": {
    "trusted": true
   },
   "outputs": [],
   "source": [
    "#check if there are urls\n",
    "cleaned_df['has_url'] = cleaned_df['text'].apply(lambda x: bool(re.search(r'http\\S+|www\\.\\S+', x)) if isinstance(x, str) else False)\n",
    "cleaned_df"
   ]
  },
  {
   "cell_type": "code",
   "execution_count": null,
   "metadata": {
    "trusted": true
   },
   "outputs": [],
   "source": [
    "cleaned_df['has_url'].value_counts()"
   ]
  },
  {
   "cell_type": "code",
   "execution_count": null,
   "metadata": {
    "trusted": true
   },
   "outputs": [],
   "source": [
    "cleaned_df[cleaned_df['has_url']==True]"
   ]
  },
  {
   "cell_type": "code",
   "execution_count": null,
   "metadata": {
    "trusted": true
   },
   "outputs": [],
   "source": [
    "def remove_urls(df): \n",
    "    \"\"\"Remove URLs\"\"\" \n",
    "    df['text_no_urls'] = df['text'].apply(lambda x: re.sub(r'http\\S+|www.\\S+', '', x)) \n",
    "    return df"
   ]
  },
  {
   "cell_type": "code",
   "execution_count": null,
   "metadata": {
    "trusted": true
   },
   "outputs": [],
   "source": [
    "cleaned_df=remove_urls(cleaned_df)"
   ]
  },
  {
   "cell_type": "code",
   "execution_count": null,
   "metadata": {
    "trusted": true
   },
   "outputs": [],
   "source": [
    "cleaned_df[cleaned_df['has_url']==True]\n",
    "#There are no more URLs in the text_no_urls column\n"
   ]
  },
  {
   "cell_type": "code",
   "execution_count": null,
   "metadata": {
    "trusted": true
   },
   "outputs": [],
   "source": [
    "\n",
    "cleaned_df.drop('text',axis=1,inplace=True)"
   ]
  },
  {
   "cell_type": "code",
   "execution_count": null,
   "metadata": {
    "trusted": true
   },
   "outputs": [],
   "source": [
    "cleaned_df.drop('has_url',axis=1,inplace=True)\n"
   ]
  },
  {
   "cell_type": "code",
   "execution_count": null,
   "metadata": {
    "trusted": true
   },
   "outputs": [],
   "source": [
    "cleaned_df"
   ]
  },
  {
   "cell_type": "code",
   "execution_count": null,
   "metadata": {
    "trusted": true
   },
   "outputs": [],
   "source": [
    "def remove_extra_whitespace(df):\n",
    "    \"\"\"Remove extra whitespace\"\"\"\n",
    "    df['text_stripped'] = df['text_no_urls'].apply(lambda x:' '.join(x.split()))\n",
    "    return df"
   ]
  },
  {
   "cell_type": "code",
   "execution_count": null,
   "metadata": {
    "trusted": true
   },
   "outputs": [],
   "source": [
    "cleaned_df = remove_extra_whitespace(cleaned_df)"
   ]
  },
  {
   "cell_type": "code",
   "execution_count": null,
   "metadata": {
    "trusted": true
   },
   "outputs": [],
   "source": [
    "cleaned_df"
   ]
  },
  {
   "cell_type": "code",
   "execution_count": null,
   "metadata": {
    "trusted": true
   },
   "outputs": [],
   "source": [
    "cleaned_df.drop('text_no_urls',axis=1,inplace=True)\n"
   ]
  },
  {
   "cell_type": "markdown",
   "metadata": {},
   "source": [
    "tokenization is a crucial step in NLP sentiment analysis as it prepares the text data for further processing and analysis by breaking it down into meaningful units, enabling subsequent NLP tasks, and providing features for machine learning models."
   ]
  },
  {
   "cell_type": "code",
   "execution_count": null,
   "metadata": {
    "trusted": true
   },
   "outputs": [],
   "source": [
    "def tokenize_text(df):\n",
    "    \"\"\"Tokenization\"\"\"\n",
    "    df['tokens'] = df['text_stripped'].apply(word_tokenize)\n",
    "    return df"
   ]
  },
  {
   "cell_type": "code",
   "execution_count": null,
   "metadata": {
    "trusted": true
   },
   "outputs": [],
   "source": [
    "cleaned_df = tokenize_text(cleaned_df)"
   ]
  },
  {
   "cell_type": "code",
   "execution_count": null,
   "metadata": {
    "trusted": true
   },
   "outputs": [],
   "source": [
    "cleaned_df"
   ]
  },
  {
   "cell_type": "code",
   "execution_count": null,
   "metadata": {
    "trusted": true
   },
   "outputs": [],
   "source": [
    "cleaned_df.drop('text_stripped',axis=1,inplace=True)\n"
   ]
  },
  {
   "cell_type": "code",
   "execution_count": null,
   "metadata": {
    "trusted": true
   },
   "outputs": [],
   "source": [
    "def remove_stopwords(df): \n",
    "    \"\"\"Remove stopwords\"\"\" \n",
    "    stop_words = set(stopwords.words('english')) \n",
    "    df['tokens_no_stop'] = df['tokens'].apply(lambda x: [word for word in x if word.lower() not in stop_words]) \n",
    "    return df\n",
    "    "
   ]
  },
  {
   "cell_type": "code",
   "execution_count": null,
   "metadata": {
    "trusted": true
   },
   "outputs": [],
   "source": [
    "cleaned_df = remove_stopwords(cleaned_df) \n",
    "cleaned_df.head()"
   ]
  },
  {
   "cell_type": "code",
   "execution_count": null,
   "metadata": {
    "trusted": true
   },
   "outputs": [],
   "source": []
  },
  {
   "cell_type": "code",
   "execution_count": null,
   "metadata": {
    "trusted": true
   },
   "outputs": [],
   "source": [
    "import nltk\n",
    "from nltk.corpus import wordnet\n",
    "import os"
   ]
  },
  {
   "cell_type": "code",
   "execution_count": null,
   "metadata": {
    "trusted": true
   },
   "outputs": [],
   "source": [
    "nltk.download('wordnet')    "
   ]
  },
  {
   "cell_type": "code",
   "execution_count": null,
   "metadata": {
    "trusted": true
   },
   "outputs": [],
   "source": [
    "import nltk\n",
    "import os\n",
    "\n",
    "# Ensure NLTK data path is set\n",
    "nltk.data.path.append('/kaggle/working/nltk_data')"
   ]
  },
  {
   "cell_type": "code",
   "execution_count": null,
   "metadata": {
    "trusted": true
   },
   "outputs": [],
   "source": [
    "# Re-download the WordNet corpus\n",
    "nltk.download('wordnet', download_dir='/kaggle/working/nltk_data/')\n",
    "nltk.download('omw-1.4', download_dir='/kaggle/working/nltk_data/')"
   ]
  },
  {
   "cell_type": "code",
   "execution_count": null,
   "metadata": {
    "trusted": true
   },
   "outputs": [],
   "source": [
    "import zipfile\n",
    "import os\n",
    "\n",
    "# Chemin des fichiers .zip téléchargés\n",
    "wordnet_zip_path = '/kaggle/working/nltk_data/corpora/wordnet.zip'\n",
    "omw_zip_path = '/kaggle/working/nltk_data/corpora/omw-1.4.zip'\n",
    "\n",
    "# Chemin d'extraction\n",
    "extracted_wordnet_path = '/kaggle/working/nltk_data/corpora/wordnet'\n",
    "extracted_omw_path = '/kaggle/working/nltk_data/corpora/omw-1.4'\n",
    "\n",
    "# Fonction pour extraire les fichiers .zip\n",
    "def extract_zip(zip_path, extract_to):\n",
    "    with zipfile.ZipFile(zip_path, 'r') as zip_ref:\n",
    "        zip_ref.extractall(extract_to)\n",
    "\n",
    "# Extraire les fichiers .zip si nécessaire\n",
    "if not os.path.exists(extracted_wordnet_path):\n",
    "    print(f\"Extraction de {wordnet_zip_path}...\")\n",
    "    extract_zip(wordnet_zip_path, extracted_wordnet_path)\n",
    "\n",
    "if not os.path.exists(extracted_omw_path):\n",
    "    print(f\"Extraction de {omw_zip_path}...\")\n",
    "    extract_zip(omw_zip_path, extracted_omw_path)\n",
    "\n",
    "# Vérifier l'existence des fichiers extraits\n",
    "if os.path.exists(extracted_wordnet_path):\n",
    "    print(f\"WordNet extrait et disponible à : {extracted_wordnet_path}\")\n",
    "else:\n",
    "    print(\"Erreur : WordNet non extrait correctement.\")\n",
    "\n",
    "if os.path.exists(extracted_omw_path):\n",
    "    print(f\"OMW extrait et disponible à : {extracted_omw_path}\")\n",
    "else:\n",
    "    print(\"Erreur : OMW non extrait correctement.\")\n"
   ]
  },
  {
   "cell_type": "code",
   "execution_count": null,
   "metadata": {
    "trusted": true
   },
   "outputs": [],
   "source": [
    "import shutil\n",
    "import os\n",
    "\n",
    "# Chemin du répertoire source et destination\n",
    "source_directory = '/kaggle/working/nltk_data/corpora/wordnet/wordnet'\n",
    "destination_directory = '/kaggle/working/nltk_data/corpora/wordnet'\n",
    "\n",
    "# Vérifier si le répertoire source existe\n",
    "if os.path.exists(source_directory):\n",
    "    # Parcourir tous les fichiers dans le répertoire source\n",
    "    for filename in os.listdir(source_directory):\n",
    "        source_file = os.path.join(source_directory, filename)\n",
    "        destination_file = os.path.join(destination_directory, filename)\n",
    "        \n",
    "        # Vérifier si c'est un fichier (et non un sous-dossier)\n",
    "        if os.path.isfile(source_file):\n",
    "            # Déplacer chaque fichier\n",
    "            shutil.move(source_file, destination_file)\n",
    "            print(f\"Le fichier {filename} a été déplacé vers : {destination_file}\")\n",
    "else:\n",
    "    print(f\"Erreur : Le répertoire source {source_directory} n'existe pas.\")\n"
   ]
  },
  {
   "cell_type": "code",
   "execution_count": null,
   "metadata": {
    "trusted": true
   },
   "outputs": [],
   "source": [
    "def lemmatize_text(df):\n",
    "    \"\"\"Lemmatize tokens after ensuring WordNet corpus is downloaded.\"\"\"\n",
    "    # Initialize lemmatizer\n",
    "    lemmatizer = WordNetLemmatizer()\n",
    "    \n",
    "    # Apply lemmatization\n",
    "    df['lemmatized'] = df['tokens_no_stop'].apply(\n",
    "        lambda x: [lemmatizer.lemmatize(word) for word in x]\n",
    "    )\n",
    "    return df\n",
    "\n",
    "cleaned_df=lemmatize_text(cleaned_df)\n"
   ]
  },
  {
   "cell_type": "code",
   "execution_count": null,
   "metadata": {
    "trusted": true
   },
   "outputs": [],
   "source": [
    "cleaned_df"
   ]
  },
  {
   "cell_type": "code",
   "execution_count": null,
   "metadata": {
    "trusted": true
   },
   "outputs": [],
   "source": [
    "def join_tokens(df): \n",
    "    \"\"\" Join tokens back to text\"\"\" \n",
    "    df['processed_text'] = df['lemmatized'].apply(lambda x: ' '.join(x)) \n",
    "    return df \n",
    "cleaned_df = join_tokens(cleaned_df) \n",
    "cleaned_df.head()"
   ]
  },
  {
   "cell_type": "code",
   "execution_count": null,
   "metadata": {
    "trusted": true
   },
   "outputs": [],
   "source": [
    "# #Machine Learning Models Require Numerical Input:\n",
    "# def encode_labels(df): \n",
    "#     \"\" \"Encode sentiment labels\"\"\" \n",
    "#     le = LabelEncoder() \n",
    "#     df['sentiment_encoded'] = le.fit_transform(df['sentiment']) \n",
    "#     return df, le \n",
    "# cleaned_df, label_encoder = encode_labels(cleaned_df) \n",
    "# cleaned_df.head()"
   ]
  },
  {
   "cell_type": "markdown",
   "metadata": {},
   "source": [
    "0:negative\n",
    "\n",
    "\n",
    "1:neutral\n",
    "\n",
    "\n",
    "2: positive"
   ]
  },
  {
   "cell_type": "code",
   "execution_count": null,
   "metadata": {
    "trusted": true
   },
   "outputs": [],
   "source": [
    "def create_tfidf(df, max_features=5000): \n",
    "    \"\"\"TF-IDF Vectorization\"\"\" \n",
    "    tfidf = TfidfVectorizer(max_features=max_features) \n",
    "    tfidf_matrix = tfidf.fit_transform(df['processed_text']) \n",
    "    return tfidf_matrix, tfidf \n",
    "tfidf_matrix, tfidf_vectorizer = create_tfidf(cleaned_df) \n",
    "cleaned_df.head()\n"
   ]
  },
  {
   "cell_type": "code",
   "execution_count": null,
   "metadata": {
    "trusted": true
   },
   "outputs": [],
   "source": [
    "# #  TF (Term Frequency): How often a word appears within a single document.  \n",
    "# # IDF (Inverse Document Frequency): Measures how rare a word is across the entire corpus of documents.\n",
    "# TF-IDF is a crucial technique in machine learning for effectively handling text data. \n",
    "# By converting text into meaningful numerical representations, \n",
    "# it enables the application of various machine learning models to solve a wide range of NLP problems."
   ]
  },
  {
   "cell_type": "markdown",
   "metadata": {},
   "source": [
    "# model"
   ]
  },
  {
   "cell_type": "code",
   "execution_count": null,
   "metadata": {
    "trusted": true
   },
   "outputs": [],
   "source": [
    "import torch \n",
    "from torch.utils.data import Dataset, DataLoader \n",
    "from transformers import RobertaTokenizer, RobertaForSequenceClassification, AdamW \n",
    "from sklearn.metrics import accuracy_score, classification_report \n",
    "from sklearn.model_selection import train_test_split"
   ]
  },
  {
   "cell_type": "code",
   "execution_count": null,
   "metadata": {
    "trusted": true
   },
   "outputs": [],
   "source": [
    "import pandas as pd\n",
    "\n",
    "def create_balanced_dataset(df, n_samples=39000):\n",
    "    \"\"\"\n",
    "    Create a balanced dataset with the specified number of samples for each sentiment class.\n",
    "\n",
    "    Parameters:\n",
    "    - df: DataFrame containing the sentiment data with 'sentiment' column.\n",
    "    - n_samples: Total number of samples to generate (default is 5000).\n",
    "\n",
    "    Returns:\n",
    "    - A balanced DataFrame with the specified number of samples per class.\n",
    "    \"\"\"\n",
    "    # Convert sentiment to numeric\n",
    "    sentiment_map = {'negative': 0, 'positive': 1}\n",
    "    df['label'] = df['sentiment'].map(sentiment_map)\n",
    "\n",
    "    # Calculate samples per class\n",
    "    samples_per_class = n_samples // 2\n",
    "\n",
    "    # Get balanced data for each class\n",
    "    balanced_dfs = []\n",
    "    for label in range(2):\n",
    "        class_df = df[df['label'] == label]\n",
    "        \n",
    "        # If we have more samples than required, perform downsampling\n",
    "        if len(class_df) > samples_per_class:\n",
    "            balanced_dfs.append(class_df.sample(n=samples_per_class, random_state=42))\n",
    "        else:\n",
    "            # If we don't have enough samples, perform oversampling\n",
    "            balanced_dfs.append(class_df.sample(n=samples_per_class, replace=True, random_state=42))\n",
    "\n",
    "    # Combine balanced datasets\n",
    "    balanced_df = pd.concat(balanced_dfs)\n",
    "\n",
    "    # Shuffle the final dataset\n",
    "    return balanced_df.sample(frac=1, random_state=42).reset_index(drop=True)\n"
   ]
  },
  {
   "cell_type": "code",
   "execution_count": null,
   "metadata": {
    "trusted": true
   },
   "outputs": [],
   "source": [
    "cleaned_df=create_balanced_dataset(cleaned_df)"
   ]
  },
  {
   "cell_type": "code",
   "execution_count": null,
   "metadata": {
    "trusted": true
   },
   "outputs": [],
   "source": [
    "cleaned_df"
   ]
  },
  {
   "cell_type": "code",
   "execution_count": null,
   "metadata": {
    "trusted": true
   },
   "outputs": [],
   "source": [
    "cleaned_df['sentiment'].value_counts()"
   ]
  },
  {
   "cell_type": "markdown",
   "metadata": {},
   "source": [
    "## split data"
   ]
  },
  {
   "cell_type": "code",
   "execution_count": null,
   "metadata": {
    "trusted": true
   },
   "outputs": [],
   "source": [
    "final_data = cleaned_df[['processed_text', 'label']]\n"
   ]
  },
  {
   "cell_type": "code",
   "execution_count": null,
   "metadata": {
    "trusted": true
   },
   "outputs": [],
   "source": [
    "final_data.head()"
   ]
  },
  {
   "cell_type": "code",
   "execution_count": null,
   "metadata": {
    "trusted": true
   },
   "outputs": [],
   "source": [
    "train_dff, test_dff = train_test_split(final_data, test_size=0.2, random_state=42, shuffle=True, stratify=final_data['label'])\n"
   ]
  },
  {
   "cell_type": "code",
   "execution_count": null,
   "metadata": {
    "trusted": true
   },
   "outputs": [],
   "source": [
    "# Get texts and labels\n",
    "train_texts = train_dff['processed_text'].tolist() \n",
    "train_labels = train_dff['label'].tolist() \n",
    "test_texts = test_dff['processed_text'].tolist() \n",
    "test_labels = test_dff['label'].tolist()"
   ]
  },
  {
   "cell_type": "code",
   "execution_count": null,
   "metadata": {
    "trusted": true
   },
   "outputs": [],
   "source": [
    "train_texts[700]"
   ]
  },
  {
   "cell_type": "code",
   "execution_count": null,
   "metadata": {
    "trusted": true
   },
   "outputs": [],
   "source": [
    "train_labels[00]"
   ]
  },
  {
   "cell_type": "code",
   "execution_count": null,
   "metadata": {
    "trusted": true
   },
   "outputs": [],
   "source": [
    "# #Si vous avez déjà utilisé TF-IDF pour transformer vos textes en vecteurs numériques, \n",
    "# vous pouvez continuer avec des modèles comme Logistic Regression, SVM, ou Naive Bayes pour la classification des sentiments.\n",
    "# Si vous souhaitez utiliser un modèle LSTM, \n",
    "# vous devrez plutôt utiliser un tokenizer Keras pour transformer les textes en séquences de mots."
   ]
  },
  {
   "cell_type": "code",
   "execution_count": null,
   "metadata": {
    "trusted": true
   },
   "outputs": [],
   "source": [
    "from sklearn.utils.class_weight import compute_class_weight\n",
    "import numpy as np\n",
    "from tensorflow.keras.preprocessing.text import Tokenizer\n",
    "from tensorflow.keras.preprocessing.sequence import pad_sequences\n",
    "from tensorflow.keras.models import Sequential\n",
    "from tensorflow.keras.layers import Embedding, LSTM, Dense, Dropout, Bidirectional, Conv1D, MaxPooling1D, BatchNormalization\n",
    "from tensorflow.keras.utils import to_categorical\n",
    "from tensorflow.keras.callbacks import EarlyStopping, ModelCheckpoint\n",
    "from tensorflow.keras import regularizers\n",
    "from tensorflow.keras.optimizers import Adam"
   ]
  },
  {
   "cell_type": "code",
   "execution_count": null,
   "metadata": {},
   "outputs": [],
   "source": [
    "# Tokenisation and padding sequences\n",
    "tokenizer = Tokenizer(num_words=5000)\n",
    "tokenizer.fit_on_texts(train_texts)\n",
    "with open('tokenizer.pkl', 'wb') as file:\n",
    "    pickle.dump(tokenizer, file)"
   ]
  },
  {
   "cell_type": "code",
   "execution_count": 80,
   "metadata": {
    "execution": {
     "iopub.status.idle": "2025-01-18T17:40:56.792906Z",
     "shell.execute_reply": "2025-01-18T17:40:56.792163Z",
     "shell.execute_reply.started": "2025-01-18T17:34:39.398215Z"
    },
    "trusted": true
   },
   "outputs": [
    {
     "name": "stdout",
     "output_type": "stream",
     "text": [
      "\u001b[1m1950/1950\u001b[0m \u001b[32m━━━━━━━━━━━━━━━━━━━━\u001b[0m\u001b[37m\u001b[0m \u001b[1m12s\u001b[0m 6ms/step - accuracy: 0.9306 - loss: 0.2086 - val_accuracy: 0.9300 - val_loss: 0.1868\n",
      "Epoch 13/100\n",
      "\u001b[1m1950/1950\u001b[0m \u001b[32m━━━━━━━━━━━━━━━━━━━━\u001b[0m\u001b[37m\u001b[0m \u001b[1m12s\u001b[0m 6ms/step - accuracy: 0.9356 - loss: 0.1966 - val_accuracy: 0.9323 - val_loss: 0.1858\n",
      "Epoch 14/100\n",
      "\u001b[1m1950/1950\u001b[0m \u001b[32m━━━━━━━━━━━━━━━━━━━━\u001b[0m\u001b[37m\u001b[0m \u001b[1m12s\u001b[0m 6ms/step - accuracy: 0.9361 - loss: 0.1878 - val_accuracy: 0.9315 - val_loss: 0.1817\n",
      "Epoch 15/100\n",
      "\u001b[1m1950/1950\u001b[0m \u001b[32m━━━━━━━━━━━━━━━━━━━━\u001b[0m\u001b[37m\u001b[0m \u001b[1m12s\u001b[0m 6ms/step - accuracy: 0.9468 - loss: 0.1617 - val_accuracy: 0.9356 - val_loss: 0.1749\n",
      "Epoch 21/100\n",
      "\u001b[1m1950/1950\u001b[0m \u001b[32m━━━━━━━━━━━━━━━━━━━━\u001b[0m\u001b[37m\u001b[0m \u001b[1m12s\u001b[0m 6ms/step - accuracy: 0.9456 - loss: 0.1661 - val_accuracy: 0.9364 - val_loss: 0.1730\n",
      "Epoch 22/100\n",
      "\u001b[1m1950/1950\u001b[0m \u001b[32m━━━━━━━━━━━━━━━━━━━━\u001b[0m\u001b[37m\u001b[0m \u001b[1m12s\u001b[0m 6ms/step - accuracy: 0.9450 - loss: 0.1638 - val_accuracy: 0.9358 - val_loss: 0.1742\n",
      "Epoch 23/100\n",
      "\u001b[1m1950/1950\u001b[0m \u001b[32m━━━━━━━━━━━━━━━━━━━━\u001b[0m\u001b[37m\u001b[0m \u001b[1m12s\u001b[0m 6ms/step - accuracy: 0.9470 - loss: 0.1574 - val_accuracy: 0.9374 - val_loss: 0.1731\n",
      "Epoch 24/100\n",
      "\u001b[1m1950/1950\u001b[0m \u001b[32m━━━━━━━━━━━━━━━━━━━━\u001b[0m\u001b[37m\u001b[0m \u001b[1m12s\u001b[0m 6ms/step - accuracy: 0.9493 - loss: 0.1547 - val_accuracy: 0.9367 - val_loss: 0.1720\n",
      "Epoch 25/100\n",
      "\u001b[1m1950/1950\u001b[0m \u001b[32m━━━━━━━━━━━━━━━━━━━━\u001b[0m\u001b[37m\u001b[0m \u001b[1m12s\u001b[0m 6ms/step - accuracy: 0.9490 - loss: 0.1550 - val_accuracy: 0.9376 - val_loss: 0.1707\n",
      "Epoch 26/100\n",
      "\u001b[1m1950/1950\u001b[0m \u001b[32m━━━━━━━━━━━━━━━━━━━━\u001b[0m\u001b[37m\u001b[0m \u001b[1m12s\u001b[0m 6ms/step - accuracy: 0.9518 - loss: 0.1524 - val_accuracy: 0.9376 - val_loss: 0.1737\n",
      "Epoch 27/100\n",
      "\u001b[1m1950/1950\u001b[0m \u001b[32m━━━━━━━━━━━━━━━━━━━━\u001b[0m\u001b[37m\u001b[0m \u001b[1m12s\u001b[0m 6ms/step - accuracy: 0.9493 - loss: 0.1538 - val_accuracy: 0.9386 - val_loss: 0.1698\n",
      "Epoch 28/100\n",
      "\u001b[1m1950/1950\u001b[0m \u001b[32m━━━━━━━━━━━━━━━━━━━━\u001b[0m\u001b[37m\u001b[0m \u001b[1m12s\u001b[0m 6ms/step - accuracy: 0.9514 - loss: 0.1486 - val_accuracy: 0.9387 - val_loss: 0.1718\n",
      "Epoch 29/100\n",
      "\u001b[1m1950/1950\u001b[0m \u001b[32m━━━━━━━━━━━━━━━━━━━━\u001b[0m\u001b[37m\u001b[0m \u001b[1m12s\u001b[0m 6ms/step - accuracy: 0.9527 - loss: 0.1464 - val_accuracy: 0.9377 - val_loss: 0.1716\n",
      "Epoch 30/100\n",
      "\u001b[1m1950/1950\u001b[0m \u001b[32m━━━━━━━━━━━━━━━━━━━━\u001b[0m\u001b[37m\u001b[0m \u001b[1m12s\u001b[0m 6ms/step - accuracy: 0.9537 - loss: 0.1477 - val_accuracy: 0.9378 - val_loss: 0.1726\n"
     ]
    }
   ],
   "source": [
    "\n",
    "X_train_seq = tokenizer.texts_to_sequences(train_texts)\n",
    "X_test_seq = tokenizer.texts_to_sequences(test_texts)\n",
    "\n",
    "X_train_pad = pad_sequences(X_train_seq, maxlen=100)\n",
    "X_test_pad = pad_sequences(X_test_seq, maxlen=100)\n",
    "\n",
    "# Convertir les labels en one-hot encoding\n",
    "y_train = np.array(train_labels)\n",
    "y_test = np.array(test_labels)\n",
    "\n",
    "y_train_onehot = to_categorical(y_train, num_classes=3)\n",
    "y_test_onehot = to_categorical(y_test, num_classes=3)\n",
    "\n",
    "#calculate weights to equilibrate the data \n",
    "class_weights = compute_class_weight(class_weight='balanced', \n",
    "                                     classes=np.unique(y_train), \n",
    "                                     y=y_train)\n",
    "class_weight_dict = dict(enumerate(class_weights))\n",
    "\n",
    "#create lstm model\n",
    "\n",
    "model = Sequential()\n",
    "model.add(Embedding(input_dim=5000, output_dim=128))  # Retirer input_length, c'est obsolète\n",
    "model.add(LSTM(64, return_sequences=False))  # Réduire la taille de LSTM\n",
    "model.add(Dropout(0.3))  # Augmenter le dropout\n",
    "\n",
    "# dense \n",
    "model.add(Dense(64, activation='relu'))  # Augmenter la taille de la couche dense\n",
    "model.add(Dropout(0.5))  # Augmenter le dropout\n",
    "\n",
    "#output layer\n",
    "model.add(Dense(3, activation='softmax'))  # softmax pour la classification multiclasse\n",
    "\n",
    "# Compilation model\n",
    "optimizer = Adam(learning_rate=0.00001)\n",
    "model.compile(loss='categorical_crossentropy', optimizer=optimizer, metrics=['accuracy'])\n",
    "\n",
    "# EarlyStopping \n",
    "early_stopping = EarlyStopping(monitor='val_loss', patience=3, restore_best_weights=True)\n",
    "\n",
    "# train model\n",
    "history = model.fit(X_train_pad, y_train_onehot, epochs=100, batch_size=16, \n",
    "                    validation_data=(X_test_pad, y_test_onehot), \n",
    "                    callbacks=[early_stopping], verbose=1,\n",
    "                    class_weight=class_weight_dict)  # Ajout des poids de classe\n"
   ]
  },
  {
   "cell_type": "code",
   "execution_count": 81,
   "metadata": {
    "execution": {
     "iopub.execute_input": "2025-01-18T17:40:56.793987Z",
     "iopub.status.busy": "2025-01-18T17:40:56.793769Z",
     "iopub.status.idle": "2025-01-18T17:40:56.812783Z",
     "shell.execute_reply": "2025-01-18T17:40:56.812006Z",
     "shell.execute_reply.started": "2025-01-18T17:40:56.793959Z"
    },
    "trusted": true
   },
   "outputs": [
    {
     "data": {
      "text/html": [
       "<pre style=\"white-space:pre;overflow-x:auto;line-height:normal;font-family:Menlo,'DejaVu Sans Mono',consolas,'Courier New',monospace\"><span style=\"font-weight: bold\">Model: \"sequential\"</span>\n",
       "</pre>\n"
      ],
      "text/plain": [
       "\u001b[1mModel: \"sequential\"\u001b[0m\n"
      ]
     },
     "metadata": {},
     "output_type": "display_data"
    },
    {
     "data": {
      "text/html": [
       "<pre style=\"white-space:pre;overflow-x:auto;line-height:normal;font-family:Menlo,'DejaVu Sans Mono',consolas,'Courier New',monospace\">┏━━━━━━━━━━━━━━━━━━━━━━━━━━━━━━━━━━━━━━┳━━━━━━━━━━━━━━━━━━━━━━━━━━━━━┳━━━━━━━━━━━━━━━━━┓\n",
       "┃<span style=\"font-weight: bold\"> Layer (type)                         </span>┃<span style=\"font-weight: bold\"> Output Shape                </span>┃<span style=\"font-weight: bold\">         Param # </span>┃\n",
       "┡━━━━━━━━━━━━━━━━━━━━━━━━━━━━━━━━━━━━━━╇━━━━━━━━━━━━━━━━━━━━━━━━━━━━━╇━━━━━━━━━━━━━━━━━┩\n",
       "│ embedding (<span style=\"color: #0087ff; text-decoration-color: #0087ff\">Embedding</span>)                │ (<span style=\"color: #00af00; text-decoration-color: #00af00\">16</span>, <span style=\"color: #00af00; text-decoration-color: #00af00\">100</span>, <span style=\"color: #00af00; text-decoration-color: #00af00\">128</span>)              │         <span style=\"color: #00af00; text-decoration-color: #00af00\">640,000</span> │\n",
       "├──────────────────────────────────────┼─────────────────────────────┼─────────────────┤\n",
       "│ lstm (<span style=\"color: #0087ff; text-decoration-color: #0087ff\">LSTM</span>)                          │ (<span style=\"color: #00af00; text-decoration-color: #00af00\">16</span>, <span style=\"color: #00af00; text-decoration-color: #00af00\">64</span>)                    │          <span style=\"color: #00af00; text-decoration-color: #00af00\">49,408</span> │\n",
       "├──────────────────────────────────────┼─────────────────────────────┼─────────────────┤\n",
       "│ dropout (<span style=\"color: #0087ff; text-decoration-color: #0087ff\">Dropout</span>)                    │ (<span style=\"color: #00af00; text-decoration-color: #00af00\">16</span>, <span style=\"color: #00af00; text-decoration-color: #00af00\">64</span>)                    │               <span style=\"color: #00af00; text-decoration-color: #00af00\">0</span> │\n",
       "├──────────────────────────────────────┼─────────────────────────────┼─────────────────┤\n",
       "│ dense (<span style=\"color: #0087ff; text-decoration-color: #0087ff\">Dense</span>)                        │ (<span style=\"color: #00af00; text-decoration-color: #00af00\">16</span>, <span style=\"color: #00af00; text-decoration-color: #00af00\">64</span>)                    │           <span style=\"color: #00af00; text-decoration-color: #00af00\">4,160</span> │\n",
       "├──────────────────────────────────────┼─────────────────────────────┼─────────────────┤\n",
       "│ dropout_1 (<span style=\"color: #0087ff; text-decoration-color: #0087ff\">Dropout</span>)                  │ (<span style=\"color: #00af00; text-decoration-color: #00af00\">16</span>, <span style=\"color: #00af00; text-decoration-color: #00af00\">64</span>)                    │               <span style=\"color: #00af00; text-decoration-color: #00af00\">0</span> │\n",
       "├──────────────────────────────────────┼─────────────────────────────┼─────────────────┤\n",
       "│ dense_1 (<span style=\"color: #0087ff; text-decoration-color: #0087ff\">Dense</span>)                      │ (<span style=\"color: #00af00; text-decoration-color: #00af00\">16</span>, <span style=\"color: #00af00; text-decoration-color: #00af00\">3</span>)                     │             <span style=\"color: #00af00; text-decoration-color: #00af00\">195</span> │\n",
       "└──────────────────────────────────────┴─────────────────────────────┴─────────────────┘\n",
       "</pre>\n"
      ],
      "text/plain": [
       "┏━━━━━━━━━━━━━━━━━━━━━━━━━━━━━━━━━━━━━━┳━━━━━━━━━━━━━━━━━━━━━━━━━━━━━┳━━━━━━━━━━━━━━━━━┓\n",
       "┃\u001b[1m \u001b[0m\u001b[1mLayer (type)                        \u001b[0m\u001b[1m \u001b[0m┃\u001b[1m \u001b[0m\u001b[1mOutput Shape               \u001b[0m\u001b[1m \u001b[0m┃\u001b[1m \u001b[0m\u001b[1m        Param #\u001b[0m\u001b[1m \u001b[0m┃\n",
       "┡━━━━━━━━━━━━━━━━━━━━━━━━━━━━━━━━━━━━━━╇━━━━━━━━━━━━━━━━━━━━━━━━━━━━━╇━━━━━━━━━━━━━━━━━┩\n",
       "│ embedding (\u001b[38;5;33mEmbedding\u001b[0m)                │ (\u001b[38;5;34m16\u001b[0m, \u001b[38;5;34m100\u001b[0m, \u001b[38;5;34m128\u001b[0m)              │         \u001b[38;5;34m640,000\u001b[0m │\n",
       "├──────────────────────────────────────┼─────────────────────────────┼─────────────────┤\n",
       "│ lstm (\u001b[38;5;33mLSTM\u001b[0m)                          │ (\u001b[38;5;34m16\u001b[0m, \u001b[38;5;34m64\u001b[0m)                    │          \u001b[38;5;34m49,408\u001b[0m │\n",
       "├──────────────────────────────────────┼─────────────────────────────┼─────────────────┤\n",
       "│ dropout (\u001b[38;5;33mDropout\u001b[0m)                    │ (\u001b[38;5;34m16\u001b[0m, \u001b[38;5;34m64\u001b[0m)                    │               \u001b[38;5;34m0\u001b[0m │\n",
       "├──────────────────────────────────────┼─────────────────────────────┼─────────────────┤\n",
       "│ dense (\u001b[38;5;33mDense\u001b[0m)                        │ (\u001b[38;5;34m16\u001b[0m, \u001b[38;5;34m64\u001b[0m)                    │           \u001b[38;5;34m4,160\u001b[0m │\n",
       "├──────────────────────────────────────┼─────────────────────────────┼─────────────────┤\n",
       "│ dropout_1 (\u001b[38;5;33mDropout\u001b[0m)                  │ (\u001b[38;5;34m16\u001b[0m, \u001b[38;5;34m64\u001b[0m)                    │               \u001b[38;5;34m0\u001b[0m │\n",
       "├──────────────────────────────────────┼─────────────────────────────┼─────────────────┤\n",
       "│ dense_1 (\u001b[38;5;33mDense\u001b[0m)                      │ (\u001b[38;5;34m16\u001b[0m, \u001b[38;5;34m3\u001b[0m)                     │             \u001b[38;5;34m195\u001b[0m │\n",
       "└──────────────────────────────────────┴─────────────────────────────┴─────────────────┘\n"
      ]
     },
     "metadata": {},
     "output_type": "display_data"
    },
    {
     "data": {
      "text/html": [
       "<pre style=\"white-space:pre;overflow-x:auto;line-height:normal;font-family:Menlo,'DejaVu Sans Mono',consolas,'Courier New',monospace\"><span style=\"font-weight: bold\"> Total params: </span><span style=\"color: #00af00; text-decoration-color: #00af00\">2,081,291</span> (7.94 MB)\n",
       "</pre>\n"
      ],
      "text/plain": [
       "\u001b[1m Total params: \u001b[0m\u001b[38;5;34m2,081,291\u001b[0m (7.94 MB)\n"
      ]
     },
     "metadata": {},
     "output_type": "display_data"
    },
    {
     "data": {
      "text/html": [
       "<pre style=\"white-space:pre;overflow-x:auto;line-height:normal;font-family:Menlo,'DejaVu Sans Mono',consolas,'Courier New',monospace\"><span style=\"font-weight: bold\"> Trainable params: </span><span style=\"color: #00af00; text-decoration-color: #00af00\">693,763</span> (2.65 MB)\n",
       "</pre>\n"
      ],
      "text/plain": [
       "\u001b[1m Trainable params: \u001b[0m\u001b[38;5;34m693,763\u001b[0m (2.65 MB)\n"
      ]
     },
     "metadata": {},
     "output_type": "display_data"
    },
    {
     "data": {
      "text/html": [
       "<pre style=\"white-space:pre;overflow-x:auto;line-height:normal;font-family:Menlo,'DejaVu Sans Mono',consolas,'Courier New',monospace\"><span style=\"font-weight: bold\"> Non-trainable params: </span><span style=\"color: #00af00; text-decoration-color: #00af00\">0</span> (0.00 B)\n",
       "</pre>\n"
      ],
      "text/plain": [
       "\u001b[1m Non-trainable params: \u001b[0m\u001b[38;5;34m0\u001b[0m (0.00 B)\n"
      ]
     },
     "metadata": {},
     "output_type": "display_data"
    },
    {
     "data": {
      "text/html": [
       "<pre style=\"white-space:pre;overflow-x:auto;line-height:normal;font-family:Menlo,'DejaVu Sans Mono',consolas,'Courier New',monospace\"><span style=\"font-weight: bold\"> Optimizer params: </span><span style=\"color: #00af00; text-decoration-color: #00af00\">1,387,528</span> (5.29 MB)\n",
       "</pre>\n"
      ],
      "text/plain": [
       "\u001b[1m Optimizer params: \u001b[0m\u001b[38;5;34m1,387,528\u001b[0m (5.29 MB)\n"
      ]
     },
     "metadata": {},
     "output_type": "display_data"
    }
   ],
   "source": [
    "model.summary()"
   ]
  },
  {
   "cell_type": "code",
   "execution_count": 82,
   "metadata": {
    "execution": {
     "iopub.execute_input": "2025-01-18T17:40:56.813922Z",
     "iopub.status.busy": "2025-01-18T17:40:56.813642Z",
     "iopub.status.idle": "2025-01-18T17:41:01.027938Z",
     "shell.execute_reply": "2025-01-18T17:41:01.027104Z",
     "shell.execute_reply.started": "2025-01-18T17:40:56.813901Z"
    },
    "trusted": true
   },
   "outputs": [
    {
     "name": "stdout",
     "output_type": "stream",
     "text": [
      "Requirement already satisfied: pydot in /usr/local/lib/python3.10/dist-packages (3.0.3)\n",
      "Requirement already satisfied: pyparsing>=3.0.9 in /usr/local/lib/python3.10/dist-packages (from pydot) (3.2.0)\n"
     ]
    },
    {
     "data": {
      "image/png": "[encoded data removed]",
      "text/plain": [
       "<IPython.core.display.Image object>"
      ]
     },
     "execution_count": 82,
     "metadata": {},
     "output_type": "execute_result"
    }
   ],
   "source": [
    "!pip install pydot\n",
    "\n",
    "from keras.utils import plot_model\n",
    "\n",
    "plot_model(model=model, show_shapes=True, dpi=54, show_layer_names=True)"
   ]
  },
  {
   "cell_type": "code",
   "execution_count": 83,
   "metadata": {
    "execution": {
     "iopub.execute_input": "2025-01-18T17:41:01.029312Z",
     "iopub.status.busy": "2025-01-18T17:41:01.028970Z",
     "iopub.status.idle": "2025-01-18T17:41:01.034035Z",
     "shell.execute_reply": "2025-01-18T17:41:01.033143Z",
     "shell.execute_reply.started": "2025-01-18T17:41:01.029276Z"
    },
    "trusted": true
   },
   "outputs": [
    {
     "name": "stdout",
     "output_type": "stream",
     "text": [
      "(31200, 100)\n",
      "(7800, 100)\n"
     ]
    }
   ],
   "source": [
    "print(X_train_pad.shape)  \n",
    "print(X_test_pad.shape)   \n",
    "\n"
   ]
  },
  {
   "cell_type": "code",
   "execution_count": 84,
   "metadata": {
    "execution": {
     "iopub.execute_input": "2025-01-18T17:41:01.035282Z",
     "iopub.status.busy": "2025-01-18T17:41:01.034978Z",
     "iopub.status.idle": "2025-01-18T17:41:01.052608Z",
     "shell.execute_reply": "2025-01-18T17:41:01.051768Z",
     "shell.execute_reply.started": "2025-01-18T17:41:01.035231Z"
    },
    "trusted": true
   },
   "outputs": [
    {
     "data": {
      "text/plain": [
       "label\n",
       "1    15600\n",
       "0    15600\n",
       "Name: count, dtype: int64"
      ]
     },
     "execution_count": 84,
     "metadata": {},
     "output_type": "execute_result"
    }
   ],
   "source": [
    "train_dff[\"label\"].value_counts()"
   ]
  },
  {
   "cell_type": "code",
   "execution_count": 85,
   "metadata": {
    "execution": {
     "iopub.execute_input": "2025-01-18T17:41:01.053665Z",
     "iopub.status.busy": "2025-01-18T17:41:01.053456Z",
     "iopub.status.idle": "2025-01-18T17:41:02.030117Z",
     "shell.execute_reply": "2025-01-18T17:41:02.029447Z",
     "shell.execute_reply.started": "2025-01-18T17:41:01.053646Z"
    },
    "trusted": true
   },
   "outputs": [
    {
     "name": "stdout",
     "output_type": "stream",
     "text": [
      "\u001b[1m244/244\u001b[0m \u001b[32m━━━━━━━━━━━━━━━━━━━━\u001b[0m\u001b[37m\u001b[0m \u001b[1m1s\u001b[0m 4ms/step - accuracy: 0.9439 - loss: 0.1626\n",
      "Test loss: 0.16976460814476013\n",
      "Test accuracy: 0.9385897517204285\n"
     ]
    }
   ],
   "source": [
    "# Evaluate du model\n",
    "loss, accuracy = model.evaluate(X_test_pad, y_test_onehot)\n",
    "print(f\"Test loss: {loss}\")\n",
    "print(f\"Test accuracy: {accuracy}\")\n"
   ]
  },
  {
   "cell_type": "code",
   "execution_count": 86,
   "metadata": {
    "execution": {
     "iopub.execute_input": "2025-01-18T17:41:02.031453Z",
     "iopub.status.busy": "2025-01-18T17:41:02.031047Z",
     "iopub.status.idle": "2025-01-18T17:41:02.406082Z",
     "shell.execute_reply": "2025-01-18T17:41:02.405229Z",
     "shell.execute_reply.started": "2025-01-18T17:41:02.031419Z"
    },
    "trusted": true
   },
   "outputs": [
    {
     "data": {
      "image/png": "[encoded data removed]",
      "text/plain": [
       "<Figure size 1200x600 with 2 Axes>"
      ]
     },
     "metadata": {},
     "output_type": "display_data"
    }
   ],
   "source": [
    "\n",
    "#learning curve\n",
    "plt.figure(figsize=(12, 6))\n",
    "\n",
    "plt.subplot(1, 2, 1)\n",
    "plt.plot(history.history['loss'], label='Training Loss')\n",
    "plt.plot(history.history['val_loss'], label='Validation Loss')\n",
    "plt.title('Learning Curve (Loss)')\n",
    "plt.xlabel('Epochs')\n",
    "plt.ylabel('Loss')\n",
    "plt.legend()\n",
    "\n",
    "# Courbe de l'exactitude\n",
    "plt.subplot(1, 2, 2)\n",
    "plt.plot(history.history['accuracy'], label='Training Accuracy')\n",
    "plt.plot(history.history['val_accuracy'], label='Validation Accuracy')\n",
    "plt.title('Learning Curve (Accuracy)')\n",
    "plt.xlabel('Epochs')\n",
    "plt.ylabel('Accuracy')\n",
    "plt.legend()\n",
    "\n",
    "plt.show()\n",
    "\n",
    "\n"
   ]
  },
  {
   "cell_type": "code",
   "execution_count": 87,
   "metadata": {
    "execution": {
     "iopub.execute_input": "2025-01-18T17:41:02.407048Z",
     "iopub.status.busy": "2025-01-18T17:41:02.406826Z",
     "iopub.status.idle": "2025-01-18T17:41:02.411518Z",
     "shell.execute_reply": "2025-01-18T17:41:02.410605Z",
     "shell.execute_reply.started": "2025-01-18T17:41:02.407026Z"
    },
    "trusted": true
   },
   "outputs": [],
   "source": [
    "import numpy as np\n",
    "\n",
    "\n",
    "def predict_sentiment(texts, tokenizer, model, max_len=100):\n",
    "    # Tokenisation text\n",
    "    sequences = tokenizer.texts_to_sequences(texts)\n",
    "    \n",
    "    # Padding \n",
    "    padded_sequences = pad_sequences(sequences, maxlen=max_len)\n",
    "    \n",
    "    \n",
    "    predictions = model.predict(padded_sequences)\n",
    "    \n",
    "    # Conversion predicted label\n",
    "    predicted_labels = np.argmax(predictions, axis=1)\n",
    "    \n",
    "    return predicted_labels\n",
    "\n"
   ]
  },
  {
   "cell_type": "code",
   "execution_count": 88,
   "metadata": {
    "execution": {
     "iopub.execute_input": "2025-01-18T17:41:02.412419Z",
     "iopub.status.busy": "2025-01-18T17:41:02.412166Z",
     "iopub.status.idle": "2025-01-18T17:41:02.585766Z",
     "shell.execute_reply": "2025-01-18T17:41:02.585133Z",
     "shell.execute_reply.started": "2025-01-18T17:41:02.412386Z"
    },
    "trusted": true
   },
   "outputs": [
    {
     "name": "stdout",
     "output_type": "stream",
     "text": [
      "\u001b[1m1/1\u001b[0m \u001b[32m━━━━━━━━━━━━━━━━━━━━\u001b[0m\u001b[37m\u001b[0m \u001b[1m0s\u001b[0m 114ms/step\n",
      "['positive', 'negative', 'negative', 'positive', 'negative', 'negative', 'negative', 'positive', 'positive', 'negative', 'positive', 'negative', 'positive']\n"
     ]
    }
   ],
   "source": [
    "#some examples\n",
    "new_texts = [\"excellent!!\",\"waste money\",\"bad\",\"wonderful \",\"expensive\",\"worste\",\"funny\",\"nice\",\"beautiful\",\"dont like it\",\"just wow\",\"low sound\",\"must try\"]\n",
    "predicted_sentiments = predict_sentiment(new_texts, tokenizer, model)\n",
    "\n",
    "#results\n",
    "sentiment_map = {0: 'negative', 1:'positive'}\n",
    "predicted_sentiments_labels = [sentiment_map[label] for label in predicted_sentiments]\n",
    "print(predicted_sentiments_labels)\n"
   ]
  },
  {
   "cell_type": "code",
   "execution_count": 89,
   "metadata": {
    "execution": {
     "iopub.execute_input": "2025-01-18T17:41:02.586750Z",
     "iopub.status.busy": "2025-01-18T17:41:02.586540Z",
     "iopub.status.idle": "2025-01-18T17:41:03.468118Z",
     "shell.execute_reply": "2025-01-18T17:41:03.467228Z",
     "shell.execute_reply.started": "2025-01-18T17:41:02.586732Z"
    },
    "trusted": true
   },
   "outputs": [
    {
     "name": "stdout",
     "output_type": "stream",
     "text": [
      "\u001b[1m244/244\u001b[0m \u001b[32m━━━━━━━━━━━━━━━━━━━━\u001b[0m\u001b[37m\u001b[0m \u001b[1m1s\u001b[0m 2ms/step\n",
      "              precision    recall  f1-score   support\n",
      "\n",
      "           0       0.93      0.94      0.94      3900\n",
      "           1       0.94      0.93      0.94      3900\n",
      "\n",
      "    accuracy                           0.94      7800\n",
      "   macro avg       0.94      0.94      0.94      7800\n",
      "weighted avg       0.94      0.94      0.94      7800\n",
      "\n"
     ]
    }
   ],
   "source": [
    "from sklearn.metrics import classification_report\n",
    "import numpy as np\n",
    "\n",
    "y_pred = model.predict(X_test_pad)\n",
    "\n",
    "y_pred_labels = np.argmax(y_pred, axis=1)\n",
    "\n",
    "print(classification_report(np.argmax(y_test_onehot, axis=1), y_pred_labels))\n"
   ]
  },
  {
   "cell_type": "code",
   "execution_count": 90,
   "metadata": {
    "execution": {
     "iopub.execute_input": "2025-01-18T17:41:03.469421Z",
     "iopub.status.busy": "2025-01-18T17:41:03.469034Z",
     "iopub.status.idle": "2025-01-18T17:41:04.363748Z",
     "shell.execute_reply": "2025-01-18T17:41:04.362996Z",
     "shell.execute_reply.started": "2025-01-18T17:41:03.469385Z"
    },
    "trusted": true
   },
   "outputs": [
    {
     "name": "stdout",
     "output_type": "stream",
     "text": [
      "\u001b[1m244/244\u001b[0m \u001b[32m━━━━━━━━━━━━━━━━━━━━\u001b[0m\u001b[37m\u001b[0m \u001b[1m1s\u001b[0m 2ms/step\n"
     ]
    },
    {
     "data": {
      "image/png": "[encoded data removed]",
      "text/plain": [
       "<Figure size 800x600 with 2 Axes>"
      ]
     },
     "metadata": {},
     "output_type": "display_data"
    }
   ],
   "source": [
    "import numpy as np\n",
    "import seaborn as sns\n",
    "import matplotlib.pyplot as plt\n",
    "from sklearn.metrics import confusion_matrix\n",
    "\n",
    "y_pred = model.predict(X_test_pad)\n",
    "y_pred_classes = np.argmax(y_pred, axis=1)  \n",
    "\n",
    "cm = confusion_matrix(np.argmax(y_test_onehot, axis=1), y_pred_classes)\n",
    "\n",
    "plt.figure(figsize=(8, 6))\n",
    "sns.heatmap(cm, annot=True, fmt='d', cmap='Blues', xticklabels=['Classe 0', 'Classe 1'], yticklabels=['Classe 0', 'Classe 1', 'Classe 2'])\n",
    "plt.xlabel('Prédictions')\n",
    "plt.ylabel('Véritables')\n",
    "plt.title('Matrice de Confusion')\n",
    "plt.show()\n"
   ]
  },
  {
   "cell_type": "code",
   "execution_count": 91,
   "metadata": {
    "execution": {
     "iopub.execute_input": "2025-01-18T17:41:04.364794Z",
     "iopub.status.busy": "2025-01-18T17:41:04.364539Z",
     "iopub.status.idle": "2025-01-18T17:41:04.415287Z",
     "shell.execute_reply": "2025-01-18T17:41:04.414461Z",
     "shell.execute_reply.started": "2025-01-18T17:41:04.364758Z"
    },
    "trusted": true
   },
   "outputs": [
    {
     "name": "stdout",
     "output_type": "stream",
     "text": [
      "Modèle sauvegardé avec succès !\n"
     ]
    }
   ],
   "source": [
    "from tensorflow.keras.models import Sequential\n",
    "\n",
    "# Sauvegarder le modèle\n",
    "model.save('sentiment_analysis_model.h5')\n",
    "print(\"Modèle sauvegardé avec succès !\")\n"
   ]
  },
  {
   "cell_type": "code",
   "execution_count": null,
   "metadata": {
    "trusted": true
   },
   "outputs": [],
   "source": []
  },
  {
   "cell_type": "markdown",
   "metadata": {},
   "source": []
  },
  {
   "cell_type": "code",
   "execution_count": null,
   "metadata": {
    "trusted": true
   },
   "outputs": [],
   "source": []
  },
  {
   "cell_type": "code",
   "execution_count": null,
   "metadata": {
    "trusted": true
   },
   "outputs": [],
   "source": []
  },
  {
   "cell_type": "code",
   "execution_count": null,
   "metadata": {
    "trusted": true
   },
   "outputs": [],
   "source": []
  },
  {
   "cell_type": "code",
   "execution_count": null,
   "metadata": {
    "trusted": true
   },
   "outputs": [],
   "source": []
  },
  {
   "cell_type": "code",
   "execution_count": null,
   "metadata": {
    "trusted": true
   },
   "outputs": [],
   "source": []
  },
  {
   "cell_type": "code",
   "execution_count": null,
   "metadata": {
    "trusted": true
   },
   "outputs": [],
   "source": []
  },
  {
   "cell_type": "code",
   "execution_count": null,
   "metadata": {
    "trusted": true
   },
   "outputs": [],
   "source": []
  },
  {
   "cell_type": "code",
   "execution_count": null,
   "metadata": {
    "trusted": true
   },
   "outputs": [],
   "source": []
  }
 ],
 "metadata": {
  "kaggle": {
   "accelerator": "nvidiaTeslaT4",
   "dataSources": [
    {
     "datasetId": 2865125,
     "sourceId": 4940809,
     "sourceType": "datasetVersion"
    },
    {
     "datasetId": 4309095,
     "sourceId": 7408860,
     "sourceType": "datasetVersion"
    }
   ],
   "dockerImageVersionId": 30840,
   "isGpuEnabled": true,
   "isInternetEnabled": true,
   "language": "python",
   "sourceType": "notebook"
  },
  "kernelspec": {
   "display_name": "Python 3",
   "language": "python",
   "name": "python3"
  },
  "language_info": {
   "codemirror_mode": {
    "name": "ipython",
    "version": 3
   },
   "file_extension": ".py",
   "mimetype": "text/x-python",
   "name": "python",
   "nbconvert_exporter": "python",
   "pygments_lexer": "ipython3",
   "version": "3.10.12"
  }
 },
 "nbformat": 4,
 "nbformat_minor": 4
}
